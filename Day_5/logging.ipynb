{
 "cells": [
  {
   "cell_type": "markdown",
   "metadata": {},
   "source": [
    "Logging:\n",
    "\n",
    "5 levels:\n",
    "\n",
    "debug\n",
    "\n",
    "info\n",
    "\n",
    "warning\n",
    "\n",
    "error\n",
    "\n",
    "critical"
   ]
  },
  {
   "cell_type": "code",
   "execution_count": 1,
   "metadata": {},
   "outputs": [],
   "source": [
    "import logging"
   ]
  },
  {
   "cell_type": "code",
   "execution_count": 2,
   "metadata": {},
   "outputs": [
    {
     "name": "stderr",
     "output_type": "stream",
     "text": [
      "WARNING:root:Warning\n",
      "ERROR:root:error\n",
      "CRITICAL:root:critical\n"
     ]
    }
   ],
   "source": [
    "logging.debug(\"debug\")\n",
    "logging.info(\"info\")\n",
    "logging.warning(\"Warning\")\n",
    "logging.error(\"error\")\n",
    "logging.critical(\"critical\")"
   ]
  },
  {
   "cell_type": "markdown",
   "metadata": {},
   "source": [
    "WARNING:\n",
    "\n",
    "root:Warning\n",
    "\n",
    "ERROR:root:error\n",
    "\n",
    "CRITICAL:root:critical\n",
    "\n",
    "root stands for what looger the person is using\n",
    "\n",
    "the warning is the message\n",
    "\n",
    "WARNING is the logging level"
   ]
  },
  {
   "cell_type": "code",
   "execution_count": 2,
   "metadata": {},
   "outputs": [],
   "source": [
    "import logging\n",
    "logging.basicConfig(level=logging.INFO,filename=\"ccc.log\", filemode=\"w\")\n",
    "logging.debug(\"debug\")\n",
    "logging.info(\"info\")\n",
    "logging.warning(\"Warning\")\n",
    "logging.error(\"error\")\n",
    "logging.critical(\"critical\")\n",
    "logging."
   ]
  },
  {
   "cell_type": "code",
   "execution_count": 1,
   "metadata": {},
   "outputs": [],
   "source": [
    "import logging\n",
    "#setting up level by using basic config\n",
    "logging.basicConfig(level=logging.INFO,filename=\"log.log\", filemode=\"w\",\n",
    "                    format=\"%(asctime)s - %(levelname)s -%(message)s\")\n",
    "#then the first will be executed is debug and then the remaining after the debug will be printed\n",
    "logger = logging.getLogger()\n",
    "logger.debug(\"debug\")\n",
    "logger.info(\"info\")\n",
    "logger.warning(\"Warning\")\n",
    "logger.error(\"error\")\n",
    "logger.critical(\"critical\")"
   ]
  },
  {
   "cell_type": "markdown",
   "metadata": {},
   "source": [
    "in the above code the error are printed in the app.log file and the mode is w\n",
    "\n",
    "https://youtu.be/urrfJgHwIJA?si=WtayYoisSTXJGRv9"
   ]
  },
  {
   "cell_type": "code",
   "execution_count": 4,
   "metadata": {},
   "outputs": [],
   "source": [
    "import logging\n",
    "logging.basicConfig(level=logging.INFO,filename=\"log.log\",filemode=\"w\",\n",
    "                    format=\"%(asctime)s - %(levelname)s -%(message)s\")\n",
    "x=2\n",
    "logging.info(f\"the value of x is {x}\")"
   ]
  },
  {
   "cell_type": "markdown",
   "metadata": {},
   "source": [
    "logging used for exceptions"
   ]
  },
  {
   "cell_type": "code",
   "execution_count": 8,
   "metadata": {},
   "outputs": [],
   "source": [
    "import logging\n",
    "logging.basicConfig(level=logging.INFO,filename=\"log.log\",filemode=\"w\",\n",
    "                    format=\"%(asctime)s - %(levelname)s -%(message)s\")\n",
    "try:\n",
    "    1/0\n",
    "except ZeroDivisionError as e:\n",
    "    logging.error(\"ZeroDivisionError\",exc_info=True)\n"
   ]
  },
  {
   "cell_type": "code",
   "execution_count": 11,
   "metadata": {},
   "outputs": [],
   "source": [
    "import logging\n",
    "logging.basicConfig(level=logging.INFO,filename=\"log.log\",filemode=\"w\",\n",
    "                    format=\"%(asctime)s - %(levelname)s -%(message)s\")\n",
    "try:\n",
    "    1/0\n",
    "except ZeroDivisionError as e:\n",
    "    logging.exception(\"ZeroDivisionError\")"
   ]
  },
  {
   "cell_type": "markdown",
   "metadata": {},
   "source": [
    "output:\n",
    "\n",
    "2024-03-24 11:30:36,341 - ERROR -ZeroDivisionError\n",
    "\n",
    "Traceback (most recent call last):\n",
    "\n",
    "  File \"C:\\Users\\2002v\\AppData\\Local\\Temp\\ipykernel_14788\\3499187585.py\", line 5, in <module>\n",
    "\n",
    "    1/0\n",
    "\n",
    "    ~^~\n",
    "    \n",
    "ZeroDivisionError: division by zero"
   ]
  },
  {
   "cell_type": "code",
   "execution_count": 10,
   "metadata": {},
   "outputs": [],
   "source": [
    "import logging\n",
    "logging.basicConfig(level=logging.INFO,filename=\"log.log\",filemode=\"w\",\n",
    "                    format=\"%(asctime)s - %(levelname)s -%(message)s\")\n",
    "try:\n",
    "    1/0\n",
    "except ZeroDivisionError as e:\n",
    "    logging.exception(\"test\")"
   ]
  },
  {
   "cell_type": "markdown",
   "metadata": {},
   "source": [
    "output:\n",
    "\n",
    "ERROR -test\n",
    "\n",
    "Traceback (most recent call last):\n",
    "\n",
    "  File \"C:\\Users\\2002v\\AppData\\Local\\Temp\\ipykernel_14788\\3230292139.py\", line 5, in <module>\n",
    "\n",
    "    1/0\n",
    "\n",
    "    ~^~\n",
    "    \n",
    "ZeroDivisionError: division by zero"
   ]
  },
  {
   "cell_type": "markdown",
   "metadata": {},
   "source": [
    "custom logs"
   ]
  },
  {
   "cell_type": "code",
   "execution_count": 3,
   "metadata": {},
   "outputs": [],
   "source": [
    "import logging\n",
    "logging.basicConfig(level=logging.INFO,filename=\"log.log\",filemode=\"w\",#here log.log is one file\n",
    "                    format=\"%(asctime)s - %(levelname)s -%(message)s\")\n",
    "\n",
    "logger=logging.getLogger(__name__)\n",
    "\n",
    "handler=logging.FileHandler(\"xxx.log\")#xxx.log is another log file\n",
    "formatter = logging.Formatter('%(asctime)s - %(name)s - %(levelname)s -%(message)s')\n",
    "handler.setFormatter(formatter)\n",
    "logger.addHandler(handler)\n",
    "logger.info(\"custom logging\")\n",
    "#example of multiple log in a single program"
   ]
  },
  {
   "cell_type": "markdown",
   "metadata": {},
   "source": [
    "output:\n",
    "\n",
    "2024-03-24 13:46:00,572 - __main__ - INFO -custom logging"
   ]
  }
 ],
 "metadata": {
  "kernelspec": {
   "display_name": "venv",
   "language": "python",
   "name": "python3"
  },
  "language_info": {
   "codemirror_mode": {
    "name": "ipython",
    "version": 3
   },
   "file_extension": ".py",
   "mimetype": "text/x-python",
   "name": "python",
   "nbconvert_exporter": "python",
   "pygments_lexer": "ipython3",
   "version": "3.12.2"
  }
 },
 "nbformat": 4,
 "nbformat_minor": 2
}
