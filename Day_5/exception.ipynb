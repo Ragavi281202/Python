{
 "cells": [
  {
   "cell_type": "markdown",
   "metadata": {},
   "source": [
    "indendation error handling"
   ]
  },
  {
   "cell_type": "code",
   "execution_count": 2,
   "metadata": {},
   "outputs": [
    {
     "name": "stdout",
     "output_type": "stream",
     "text": [
      "Type error\n",
      "Done\n"
     ]
    }
   ],
   "source": [
    "try:\n",
    "    num1=int(input(\"Enter num : \"))\n",
    "    str1=input('Enter string : ')\n",
    "    num2=num1+str1\n",
    "    print(num2)\n",
    "\n",
    "except TypeError:\n",
    "    print(\"Type error\")\n",
    "\n",
    "finally:\n",
    "    print(\"Done\")"
   ]
  },
  {
   "cell_type": "code",
   "execution_count": 5,
   "metadata": {},
   "outputs": [
    {
     "name": "stdout",
     "output_type": "stream",
     "text": [
      "OverflowError\n",
      "Done\n"
     ]
    }
   ],
   "source": [
    "try:\n",
    "    import math\n",
    "    math.exp(1000)\n",
    "    math.pow(2,10000)\n",
    "except OverflowError:\n",
    "    print(\"OverflowError\")\n",
    "\n",
    "finally:\n",
    "    print(\"Done\")"
   ]
  },
  {
   "cell_type": "markdown",
   "metadata": {},
   "source": [
    "division by zero error"
   ]
  },
  {
   "cell_type": "code",
   "execution_count": 5,
   "metadata": {},
   "outputs": [
    {
     "name": "stdout",
     "output_type": "stream",
     "text": [
      "division by zero\n",
      "Done\n"
     ]
    }
   ],
   "source": [
    "try:\n",
    "    num1=int(input(\"Enter num : \"))\n",
    "    num2=int(input(\"Enter another num : \"))\n",
    "    print(num1/num2)\n",
    "\n",
    "except ValueError:\n",
    "    print(\"ValueError\")\n",
    "\n",
    "except Exception as e:\n",
    "    print(e)\n",
    "\n",
    "finally:\n",
    "    print(\"Done\")"
   ]
  },
  {
   "cell_type": "markdown",
   "metadata": {},
   "source": [
    "file not found error"
   ]
  },
  {
   "cell_type": "code",
   "execution_count": 9,
   "metadata": {},
   "outputs": [
    {
     "name": "stdout",
     "output_type": "stream",
     "text": [
      "Error reading file: [Errno 2] No such file or directory: 'nofile.txt'\n",
      "Cleanup code in 'finally' block (file operations)\n"
     ]
    }
   ],
   "source": [
    "try:\n",
    "    # Open and read a file\n",
    "    with open('nofile.txt', 'r') as f:\n",
    "        content = f.read()\n",
    "        print(\"File content:\", content)\n",
    "\n",
    "#except FileNotFoundError:\n",
    "#    print(\"Error: File not found!\")\n",
    "\n",
    "except IOError as e:\n",
    "    print(f\"Error reading file: {e}\")\n",
    "\n",
    "except Exception as e:\n",
    "    print(\"An error occurred:\", e)\n",
    "\n",
    "finally:\n",
    "    print(\"Cleanup code in 'finally' block (file operations)\")"
   ]
  },
  {
   "cell_type": "markdown",
   "metadata": {},
   "source": [
    "custom errors"
   ]
  },
  {
   "cell_type": "code",
   "execution_count": 10,
   "metadata": {},
   "outputs": [
    {
     "name": "stdout",
     "output_type": "stream",
     "text": [
      "customerror error\n",
      "done\n"
     ]
    }
   ],
   "source": [
    "class customerror(Exception):\n",
    "    pass\n",
    "try:\n",
    "    raise customerror(\"error\")\n",
    "except customerror as e:\n",
    "    print(\"customerror\",e)\n",
    "except Exception as e:\n",
    "    print(\"exception\",e)\n",
    "finally:\n",
    "    print(\"done\")"
   ]
  },
  {
   "cell_type": "code",
   "execution_count": 11,
   "metadata": {},
   "outputs": [
    {
     "name": "stdout",
     "output_type": "stream",
     "text": [
      "exception error\n",
      "done\n"
     ]
    }
   ],
   "source": [
    "class customerror(Exception):\n",
    "    pass\n",
    "try:\n",
    "    raise customerror(\"error\")\n",
    "#except customerror as e:\n",
    "    #print(\"customerror\",e)\n",
    "except Exception as e:\n",
    "    print(\"exception\",e)\n",
    "finally:\n",
    "    print(\"done\")"
   ]
  }
 ],
 "metadata": {
  "kernelspec": {
   "display_name": "venv",
   "language": "python",
   "name": "python3"
  },
  "language_info": {
   "codemirror_mode": {
    "name": "ipython",
    "version": 3
   },
   "file_extension": ".py",
   "mimetype": "text/x-python",
   "name": "python",
   "nbconvert_exporter": "python",
   "pygments_lexer": "ipython3",
   "version": "3.12.2"
  }
 },
 "nbformat": 4,
 "nbformat_minor": 2
}
