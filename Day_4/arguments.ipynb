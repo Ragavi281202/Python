{
 "cells": [
  {
   "cell_type": "markdown",
   "metadata": {},
   "source": [
    "function with no argument,one argument and two arguments"
   ]
  },
  {
   "cell_type": "code",
   "execution_count": 2,
   "metadata": {},
   "outputs": [
    {
     "name": "stdout",
     "output_type": "stream",
     "text": [
      "3 5 7\n"
     ]
    }
   ],
   "source": [
    "def func2(x=1,y=2):\n",
    "    return x+y\n",
    "\n",
    "func2_value1=func2()\n",
    "func2_value2=func2(3)\n",
    "func2_value3=func2(3,4)\n",
    "print(func2_value1,func2_value2,func2_value3)"
   ]
  },
  {
   "cell_type": "markdown",
   "metadata": {},
   "source": [
    "**kwargs arguments for sum of n numbers"
   ]
  },
  {
   "cell_type": "code",
   "execution_count": 3,
   "metadata": {},
   "outputs": [],
   "source": [
    "from functools import reduce"
   ]
  },
  {
   "cell_type": "code",
   "execution_count": 11,
   "metadata": {},
   "outputs": [
    {
     "name": "stdout",
     "output_type": "stream",
     "text": [
      "9\n"
     ]
    }
   ],
   "source": [
    "def func2(**kwargs):\n",
    "    add=[]\n",
    "    for key ,value in kwargs.items():\n",
    "        add.append(value)\n",
    "        sum=reduce(lambda x,y:x+y,add)\n",
    "    return sum\n",
    "\n",
    "print(func2(num1=2,num2=3,num3=3,num4=1))"
   ]
  },
  {
   "cell_type": "markdown",
   "metadata": {},
   "source": [
    "same function with both **kwargs and *args"
   ]
  },
  {
   "cell_type": "code",
   "execution_count": 12,
   "metadata": {},
   "outputs": [
    {
     "ename": "SyntaxError",
     "evalue": "positional argument follows keyword argument (2810781362.py, line 12)",
     "output_type": "error",
     "traceback": [
      "\u001b[1;36m  Cell \u001b[1;32mIn[12], line 12\u001b[1;36m\u001b[0m\n\u001b[1;33m    func2(2,3,5,num1=1,num2=3,num3=5,1)#this is not possible as the position of the arguments does not match\u001b[0m\n\u001b[1;37m                                      ^\u001b[0m\n\u001b[1;31mSyntaxError\u001b[0m\u001b[1;31m:\u001b[0m positional argument follows keyword argument\n"
     ]
    }
   ],
   "source": [
    "def func2(*args,**kwargs):\n",
    "    product=[]\n",
    "    num=0\n",
    "    for i in args:\n",
    "        num+=i\n",
    "    print(num)\n",
    "    for key ,value in kwargs.items():\n",
    "        product.append(value)\n",
    "        product1=reduce(lambda x,y:x+y,product)\n",
    "    print(product1)\n",
    "\n",
    "func2(2,3,5,num1=1,num2=3,num3=5,1)#this is not possible as the position of the arguments does not match"
   ]
  },
  {
   "cell_type": "code",
   "execution_count": 13,
   "metadata": {},
   "outputs": [
    {
     "name": "stdout",
     "output_type": "stream",
     "text": [
      "10\n",
      "9\n"
     ]
    }
   ],
   "source": [
    "def func2(*args,**kwargs):\n",
    "    product=[]\n",
    "    num=0\n",
    "    for i in args:\n",
    "        num+=i\n",
    "    print(num)\n",
    "    for key ,value in kwargs.items():\n",
    "        product.append(value)\n",
    "        product1=reduce(lambda x,y:x+y,product)\n",
    "    print(product1)\n",
    "\n",
    "func2(2,3,5,num1=1,num2=3,num3=5)"
   ]
  }
 ],
 "metadata": {
  "kernelspec": {
   "display_name": "venv",
   "language": "python",
   "name": "python3"
  },
  "language_info": {
   "codemirror_mode": {
    "name": "ipython",
    "version": 3
   },
   "file_extension": ".py",
   "mimetype": "text/x-python",
   "name": "python",
   "nbconvert_exporter": "python",
   "pygments_lexer": "ipython3",
   "version": "3.12.0"
  }
 },
 "nbformat": 4,
 "nbformat_minor": 2
}
