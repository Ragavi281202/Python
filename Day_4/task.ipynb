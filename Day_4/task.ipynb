{
 "cells": [
  {
   "cell_type": "markdown",
   "metadata": {},
   "source": [
    "Operators"
   ]
  },
  {
   "cell_type": "code",
   "execution_count": 17,
   "metadata": {},
   "outputs": [
    {
     "name": "stdout",
     "output_type": "stream",
     "text": [
      "45000.0\n"
     ]
    }
   ],
   "source": [
    "emp_experience=int(input(\"Enter your years of experience : \"))\n",
    "emp_salary=30000\n",
    "if(emp_experience>5):\n",
    "    emp_salary=(0.5*emp_salary)+emp_salary\n",
    "    print(emp_salary)\n",
    "elif(emp_experience>3):\n",
    "    emp_salary=(0.3*emp_salary)+emp_salary\n",
    "    print(emp_salary)\n",
    "else:\n",
    "    print(emp_salary)"
   ]
  },
  {
   "cell_type": "code",
   "execution_count": 10,
   "metadata": {},
   "outputs": [
    {
     "name": "stdout",
     "output_type": "stream",
     "text": [
      "10\n",
      "9\n",
      "8\n",
      "7\n",
      "6\n",
      "5\n",
      "4\n",
      "3\n",
      "2\n",
      "1\n",
      "0\n"
     ]
    }
   ],
   "source": [
    "num1=int(input(\"Enter number : \"))\n",
    "if(num1>0):\n",
    "    while(num1>=0):\n",
    "        print(num1)\n",
    "        num1-=1\n",
    "else:\n",
    "    num1=num1+(-2*num1)\n",
    "    while(num1>=0):\n",
    "        print(num1)\n",
    "        num1-=1"
   ]
  },
  {
   "cell_type": "markdown",
   "metadata": {},
   "source": [
    "Count number of even and odd numbers in a list"
   ]
  },
  {
   "cell_type": "code",
   "execution_count": 14,
   "metadata": {},
   "outputs": [
    {
     "name": "stdout",
     "output_type": "stream",
     "text": [
      "List :  [11, 22, 33, 44, 55]\n",
      "Even numbers count :  2\n",
      "Odd number count :  3\n"
     ]
    }
   ],
   "source": [
    "len_list=int(input(\"Enter length of the list : \"))\n",
    "lst1=[]\n",
    "ce=0\n",
    "co=0\n",
    "for i in range(len_list):\n",
    "    num=int(input(\"Enter values of the list : \"))\n",
    "    lst1.append(num)\n",
    "    if(lst1[i]%2==0):\n",
    "        ce+=1\n",
    "    else:\n",
    "        co+=1\n",
    "print(\"List : \",lst1)\n",
    "print(\"Even numbers count : \",ce)\n",
    "print(\"Odd number count : \",co)"
   ]
  },
  {
   "cell_type": "markdown",
   "metadata": {},
   "source": [
    "Fibbanocci series"
   ]
  },
  {
   "cell_type": "code",
   "execution_count": 22,
   "metadata": {},
   "outputs": [
    {
     "name": "stdout",
     "output_type": "stream",
     "text": [
      "0\n",
      "1\n",
      "1\n",
      "2\n",
      "3\n",
      "5\n",
      "8\n",
      "13\n",
      "21\n",
      "34\n",
      "\n"
     ]
    }
   ],
   "source": [
    "f0=0\n",
    "f1=1\n",
    "f2=f1\n",
    "c=3\n",
    "num1=int(input(\"Enter a number : \"))\n",
    "if(num1==0 or num1==1):\n",
    "    print(f0)\n",
    "else:\n",
    "    print(f0)\n",
    "    print(f1)\n",
    "    while(c<=num1):\n",
    "        print(f2)\n",
    "        c+=1\n",
    "        f0,f1=f1,f2\n",
    "        f2=f0+f1\n",
    "\n",
    "print()"
   ]
  }
 ],
 "metadata": {
  "kernelspec": {
   "display_name": "venv",
   "language": "python",
   "name": "python3"
  },
  "language_info": {
   "codemirror_mode": {
    "name": "ipython",
    "version": 3
   },
   "file_extension": ".py",
   "mimetype": "text/x-python",
   "name": "python",
   "nbconvert_exporter": "python",
   "pygments_lexer": "ipython3",
   "version": "3.12.0"
  }
 },
 "nbformat": 4,
 "nbformat_minor": 2
}
