{
 "cells": [
  {
   "cell_type": "code",
   "execution_count": 1,
   "metadata": {},
   "outputs": [],
   "source": [
    "import hotel_base"
   ]
  },
  {
   "cell_type": "code",
   "execution_count": 35,
   "metadata": {},
   "outputs": [
    {
     "name": "stdout",
     "output_type": "stream",
     "text": [
      "Breakfast\tPrice\n",
      "idli \t\t 20\n",
      "dosa \t\t 25\n",
      "poori \t\t 30\n",
      "pongal \t\t 30\n",
      "vada \t\t 10\n",
      "Thanks for ordering...\n",
      "Bill Number :  1\n",
      "------ Venkatgeeth ------\n",
      "S.No\t \t \t \t \t Food \t \t \t \t \t Quantity \t \t \t \t \t Price\n"
     ]
    }
   ],
   "source": [
    "from functools import reduce\n",
    "breakfast_len=len(hotel_base.hotel_breakfast)\n",
    "lunch_len=len(hotel_base.hotel_lunch)\n",
    "dinner_len=len(hotel_base.hotel_dinner)\n",
    "rate=[]\n",
    "bill=0\n",
    "while(True):\n",
    "    bill+=1\n",
    "    hoteltime=int(input(\"What do you want ? \\n1.Breakfast \\n2.Lunch \\n3.Dinner\"))\n",
    "    if(hoteltime==1):\n",
    "        print(\"Breakfast\\tPrice\")\n",
    "        for i in hotel_base.hotel_breakfast.keys():\n",
    "            print(i,\"\\t\\t\",hotel_base.hotel_breakfast.get(i))\n",
    "        for i in range(breakfast_len+1):\n",
    "            break_fast=int(input(\"Which breakfast do you want ? \\n1.idli \\n2.dosa \\n3.poori \\n4.pongal \\n5.vada \\n6.quit\"))\n",
    "            if(break_fast==1):\n",
    "                q=int(input(\"Quantity : \"))\n",
    "                rate.append(q*hotel_base.hotel_breakfast.get(\"idli\"))\n",
    "            elif(break_fast==2):\n",
    "                q=int(input(\"Quantity : \"))\n",
    "                rate.append(q*hotel_base.hotel_breakfast.get(\"dosa\"))\n",
    "            elif(break_fast==3):\n",
    "                q=int(input(\"Quantity : \"))\n",
    "                rate.append(q*hotel_base.hotel_breakfast.get(\"poori\"))\n",
    "            elif(break_fast==4):\n",
    "                q=int(input(\"Quantity : \"))\n",
    "                rate.append(q*hotel_base.hotel_breakfast.get(\"pongal\"))\n",
    "            elif(break_fast==5):\n",
    "                q=int(input(\"Quantity : \"))\n",
    "                rate.append(q*hotel_base.hotel_breakfast.get(\"vada\"))\n",
    "            else:\n",
    "                print(\"Thanks for ordering...\")\n",
    "                total_rate=reduce(lambda x,y:x+y,rate)\n",
    "                print(\"Bill Number : \",bill)\n",
    "                print(\"\\t \\t \\t \\t\\t------\",hotel_base.hotel_name,\"------\")\n",
    "                print(\"S.No\\t \\t \\t Food \\t \\t \\t Quantity \\t \\t \\t Price\")\n",
    "                \n",
    "                break\n",
    "        \n",
    "    elif(hoteltime==2):\n",
    "        print(\"Lunch\\t\\tPrice\")\n",
    "        for i in hotel_base.hotel_lunch.keys():\n",
    "            print(i,\"\\t\",hotel_base.hotel_lunch.get(i))\n",
    "        for i in range(lunch_len+1):\n",
    "            lunch=int(input(\"Which lunch do you want ? \\n1.sambar_rice \\n2.curd_rice \\n3.mini_meals \\n4.full_meals \\n5.chappathi \\n6.fired_rice \\n7.noodles \\n8.quit\"))\n",
    "            if(lunch==1):\n",
    "                q=int(input(\"Quantity : \"))\n",
    "                rate.append(q*hotel_base.hotel_lunch.get(\"sambar_rice\"))\n",
    "            elif(lunch==2):\n",
    "                q=int(input(\"Quantity : \"))\n",
    "                rate.append(q*hotel_base.hotel_lunch.get(\"curd_rice\"))\n",
    "            elif(lunch==3):\n",
    "                q=int(input(\"Quantity : \"))\n",
    "                rate.append(q*hotel_base.hotel_lunch.get(\"mini_meals\"))\n",
    "            elif(lunch==4):\n",
    "                q=int(input(\"Quantity : \"))\n",
    "                rate.append(q*hotel_base.hotel_lunch.get(\"full_meals\"))\n",
    "            elif(lunch==5):\n",
    "                q=int(input(\"Quantity : \"))\n",
    "                rate.append(q*hotel_base.hotel_lunch.get(\"chappathi\"))\n",
    "            elif(lunch==6):\n",
    "                q=int(input(\"Quantity : \"))\n",
    "                rate.append(q*hotel_base.hotel_lunch.get(\"fired_rice\"))\n",
    "            elif(lunch==7):\n",
    "                q=int(input(\"Quantity : \"))\n",
    "                rate.append(q*hotel_base.hotel_lunch.get(\"noodles\"))\n",
    "            else:\n",
    "                print(\"Thanks for ordering...\")\n",
    "                total_rate=reduce(lambda x,y:x+y,rate)\n",
    "                break\n",
    "\n",
    "    else:\n",
    "        print(\"Dinner\\t\\tPrice\")\n",
    "        for i in hotel_base.hotel_dinner.keys():\n",
    "            print(i,\"\\t\",hotel_base.hotel_dinner.get(i))\n",
    "        for i in range(dinner_len+1):\n",
    "            dinner=input(\"Which dinner do you want ? \\n1.chappathi \\n2.parotta \\n3.masal_dosa \\n4.podi_idli \\n5.stuffed_naan \\n6.panner_butter \\n7.butter_naan\")\n",
    "            if(dinner==\"chappathi\"):\n",
    "                q=int(input(\"Quantity : \"))\n",
    "                rate.append(q*hotel_base.hotel_dinner.get(\"chappathi\"))\n",
    "            elif(dinner==\"parotta\"):\n",
    "                q=int(input(\"Quantity : \"))\n",
    "                rate.append(q*hotel_base.hotel_dinner.get(\"parotta\"))\n",
    "            elif(dinner==\"masal_dosa\"):\n",
    "                q=int(input(\"Quantity : \"))\n",
    "                rate.append(q*hotel_base.hotel_dinner.get(\"masal_dosa\"))\n",
    "            elif(dinner==\"podi_idli\"):\n",
    "                q=int(input(\"Quantity : \"))\n",
    "                rate.append(q*hotel_base.hotel_dinner.get(\"podi_idli\"))\n",
    "            elif(dinner==\"stuffed_naan\"):\n",
    "                q=int(input(\"Quantity : \"))\n",
    "                rate.append(q*hotel_base.hotel_dinner.get(\"stuffed_naan\"))\n",
    "            elif(dinner==\"panner_butter\"):\n",
    "                q=int(input(\"Quantity : \"))\n",
    "                rate.append(q*hotel_base.hotel_dinner.get(\"panner_butter\"))\n",
    "            elif(dinner==\"butter_naan\"):\n",
    "                q=int(input(\"Quantity : \"))\n",
    "                rate.append(q*hotel_base.hotel_dinner.get(\"butter_naan\"))\n",
    "            else:\n",
    "                print(\"Thanks for ordering...\")\n",
    "                total_rate=reduce(lambda x,y:x+y,rate)\n",
    "                break\n",
    "    ans=int(input(\"Shall I generate bill... \\n1.yes \\n2.no\"))    \n",
    "    if(ans==1):\n",
    "        break\n",
    "\n",
    "\n",
    "print(\"Bill Number : \",bill)\n",
    "print(\"\\t \\t \\t \\t\\t------\",hotel_base.hotel_name,\"------\")\n",
    "print(\"S.No\\t \\t \\t Food \\t \\t \\t Quantity \\t \\t \\t Price\")\n",
    "\n",
    "\n"
   ]
  },
  {
   "cell_type": "code",
   "execution_count": 45,
   "metadata": {},
   "outputs": [
    {
     "name": "stdout",
     "output_type": "stream",
     "text": [
      "Bill Number :  1\n",
      "\t \t \t \t\t------ Venkatgeeth ------\n",
      "S.No\t \t \t Food \t \t \t Quantity \t \t \t Price\n"
     ]
    }
   ],
   "source": [
    "print(\"Bill Number : \",bill)\n",
    "print(\"\\t \\t \\t \\t\\t------\",hotel_base.hotel_name,\"------\")\n",
    "print(\"S.No\\t \\t \\t Food \\t \\t \\t Quantity \\t \\t \\t Price\")\n"
   ]
  },
  {
   "cell_type": "code",
   "execution_count": 19,
   "metadata": {},
   "outputs": [
    {
     "name": "stdout",
     "output_type": "stream",
     "text": [
      "6\n",
      "iaa\n"
     ]
    }
   ],
   "source": [
    "str1=\"ragavi\"\n",
    "print(len(str1))\n",
    "print(str1[::-2])"
   ]
  }
 ],
 "metadata": {
  "kernelspec": {
   "display_name": "venv",
   "language": "python",
   "name": "python3"
  },
  "language_info": {
   "codemirror_mode": {
    "name": "ipython",
    "version": 3
   },
   "file_extension": ".py",
   "mimetype": "text/x-python",
   "name": "python",
   "nbconvert_exporter": "python",
   "pygments_lexer": "ipython3",
   "version": "3.12.0"
  }
 },
 "nbformat": 4,
 "nbformat_minor": 2
}
