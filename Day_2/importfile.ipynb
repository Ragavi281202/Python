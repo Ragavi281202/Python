{
 "cells": [
  {
   "cell_type": "markdown",
   "metadata": {},
   "source": [
    "imports and exports"
   ]
  },
  {
   "cell_type": "code",
   "execution_count": 1,
   "metadata": {},
   "outputs": [
    {
     "name": "stdout",
     "output_type": "stream",
     "text": [
      "3\n",
      "rags\n",
      "6\n",
      "9\n"
     ]
    }
   ],
   "source": [
    "import export\n",
    "print(export.x)\n",
    "\n",
    "name=export.fun1(\"rags\")\n",
    "print(name)\n",
    "\n",
    "mul=export.fun2(3,2)\n",
    "print(mul)\n",
    "\n",
    "square=export.fun3(3)\n",
    "print(square)"
   ]
  },
  {
   "cell_type": "code",
   "execution_count": 2,
   "metadata": {},
   "outputs": [
    {
     "name": "stdout",
     "output_type": "stream",
     "text": [
      "Help on module export:\n",
      "\n",
      "NAME\n",
      "    export\n",
      "\n",
      "DESCRIPTION\n",
      "    This is export file\n",
      "    which exports a number\n",
      "    square of a number and\n",
      "    name of the given name\n",
      "\n",
      "FUNCTIONS\n",
      "    fun1(name)\n",
      "        This is\n",
      "        your name\n",
      "\n",
      "    fun2(number1, number2)\n",
      "        this is multiplication\n",
      "        of two numbers\n",
      "\n",
      "    fun3(number)\n",
      "        this is square\n",
      "        of two numbers\n",
      "\n",
      "DATA\n",
      "    x = 3\n",
      "\n",
      "FILE\n",
      "    c:\\users\\ragavi.v\\downloads\\ragavi vg\\python\\day_2\\export.py\n",
      "\n",
      "\n"
     ]
    }
   ],
   "source": [
    "help(export)"
   ]
  },
  {
   "cell_type": "code",
   "execution_count": 3,
   "metadata": {},
   "outputs": [
    {
     "name": "stdout",
     "output_type": "stream",
     "text": [
      "Help on function fun1 in module export:\n",
      "\n",
      "fun1(name)\n",
      "    This is\n",
      "    your name\n",
      "\n"
     ]
    }
   ],
   "source": [
    "help(export.fun1)"
   ]
  },
  {
   "cell_type": "code",
   "execution_count": 4,
   "metadata": {},
   "outputs": [
    {
     "name": "stdout",
     "output_type": "stream",
     "text": [
      "Help on function fun2 in module export:\n",
      "\n",
      "fun2(number1, number2)\n",
      "    this is multiplication\n",
      "    of two numbers\n",
      "\n"
     ]
    }
   ],
   "source": [
    "help(export.fun2)"
   ]
  },
  {
   "cell_type": "code",
   "execution_count": 5,
   "metadata": {},
   "outputs": [
    {
     "name": "stdout",
     "output_type": "stream",
     "text": [
      "Help on function fun3 in module export:\n",
      "\n",
      "fun3(number)\n",
      "    this is square\n",
      "    of two numbers\n",
      "\n"
     ]
    }
   ],
   "source": [
    "help(export.fun3)"
   ]
  },
  {
   "cell_type": "code",
   "execution_count": 6,
   "metadata": {},
   "outputs": [
    {
     "name": "stdout",
     "output_type": "stream",
     "text": [
      "<module 'export' from 'c:\\\\Users\\\\ragavi.v\\\\Downloads\\\\RAGAVI VG\\\\Python\\\\Day_2\\\\export.py'>\n"
     ]
    }
   ],
   "source": [
    "print(export)"
   ]
  },
  {
   "cell_type": "code",
   "execution_count": 7,
   "metadata": {},
   "outputs": [
    {
     "name": "stdout",
     "output_type": "stream",
     "text": [
      "\n",
      "    This is \n",
      "    your name\n",
      "    \n"
     ]
    }
   ],
   "source": [
    "print(export.fun1.__doc__)"
   ]
  },
  {
   "cell_type": "code",
   "execution_count": 8,
   "metadata": {},
   "outputs": [
    {
     "name": "stdout",
     "output_type": "stream",
     "text": [
      "\n",
      "    this is multiplication \n",
      "    of two numbers\n",
      "    \n"
     ]
    }
   ],
   "source": [
    "print(export.fun2.__doc__)"
   ]
  },
  {
   "cell_type": "code",
   "execution_count": 9,
   "metadata": {},
   "outputs": [
    {
     "name": "stdout",
     "output_type": "stream",
     "text": [
      "\n",
      "    this is square \n",
      "    of two numbers\n",
      "    \n"
     ]
    }
   ],
   "source": [
    "print(export.fun3.__doc__)"
   ]
  }
 ],
 "metadata": {
  "kernelspec": {
   "display_name": "venv",
   "language": "python",
   "name": "python3"
  },
  "language_info": {
   "codemirror_mode": {
    "name": "ipython",
    "version": 3
   },
   "file_extension": ".py",
   "mimetype": "text/x-python",
   "name": "python",
   "nbconvert_exporter": "python",
   "pygments_lexer": "ipython3",
   "version": "3.12.0"
  }
 },
 "nbformat": 4,
 "nbformat_minor": 2
}
