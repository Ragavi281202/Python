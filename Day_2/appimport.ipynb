{
 "cells": [
  {
   "cell_type": "code",
   "execution_count": 2,
   "metadata": {},
   "outputs": [
    {
     "name": "stdout",
     "output_type": "stream",
     "text": [
      "Doctor Appointment\n",
      "Name :  ragavi\n",
      "Age :  21\n",
      "Time :  7\n",
      "Day :  thursday\n",
      "Cause :  fever\n"
     ]
    }
   ],
   "source": [
    "op=int(input(\"Enter application to be used : 1.Doctor Appointment\\n 2.Gym membership\\n 3.Yoga memebership\\n 4.User information\\n 5.College Application\"))\n",
    "if(op==1):\n",
    "    name=input(\"Enter name : \")\n",
    "    age=int(input(\"Enter age : \"))\n",
    "    time=input(\"Available time (6pm to 10pm) : \")\n",
    "    day=input(\"Enter day : \")\n",
    "    cause=input(\"Enter reason for illness : \")\n",
    "    print(\"Doctor Appointment\")\n",
    "    print(\"Name : \",name)\n",
    "    print(\"Age : \",age)\n",
    "    print(\"Time : \",time)\n",
    "    print(\"Day : \",day)\n",
    "    print(\"Cause : \",cause)\n",
    "elif(op==2):\n",
    "    name=input(\"Enter name : \")\n",
    "    age=int(input(\"Enter age : \"))\n",
    "    gym_package=input(\"Gym package :\")\n",
    "    phno=int(input(\"Enter phone number : \"))\n",
    "    gender=input(\"Enter gender : \")\n",
    "    print(\"Gym membership\")\n",
    "    print(\"Name : \",name)\n",
    "    print(\"Age : \",age)\n",
    "    print(\"Gym package :\",gym_package)\n",
    "    print(\"Contact number : \",phno)\n",
    "    print(\"Gender\",gender)\n",
    "elif(op==3):\n",
    "    name=input(\"Enter name : \")\n",
    "    age=int(input(\"Enter age : \"))\n",
    "    phno=int(input(\"Enter phone number : \"))\n",
    "    gender=input(\"Enter gender : \")\n",
    "    time=input(\"Available time (6pm to 10pm) : \")\n",
    "    print(\"Yoga memebership\")\n",
    "    print(\"Name : \",name)\n",
    "    print(\"Age : \",age)\n",
    "    print(\"Contact number : \",phno)\n",
    "    print(\"Gender\",gender)\n",
    "    print(\"Time : \",time)\n",
    "elif(op==4):\n",
    "    name=input(\"Enter name : \")\n",
    "    age=int(input(\"Enter age : \"))\n",
    "    phno=int(input(\"Enter phone number : \"))\n",
    "    gender=input(\"Enter gender : \") \n",
    "    email=input(\"Enter email : \")\n",
    "    print(\"User information\")\n",
    "    print(\"Name : \",name)\n",
    "    print(\"Age : \",age)\n",
    "    print(\"Contact number : \",phno)\n",
    "    print(\"Gender\",gender)\n",
    "    print(\"Email :\",email)\n",
    "else:\n",
    "    name=input(\"Enter name : \")\n",
    "    mark_12=int(input(\"Enter 12th mark : \"))\n",
    "    mark_10=int(input(\"Enter 10th mark : \"))\n",
    "    gender=input(\"Enter gender : \") \n",
    "    dept=input(\"Enter dept : \")\n",
    "    print(\"College Application\")\n",
    "    print(\"Name : \",name)\n",
    "    print(\"10th Mark : \",mark_10)\n",
    "    print(\"12th Mark : \",mark_12)\n",
    "    print(\"Gender\",gender)\n",
    "    print(\"Department : \",dept)"
   ]
  }
 ],
 "metadata": {
  "kernelspec": {
   "display_name": "venv",
   "language": "python",
   "name": "python3"
  },
  "language_info": {
   "codemirror_mode": {
    "name": "ipython",
    "version": 3
   },
   "file_extension": ".py",
   "mimetype": "text/x-python",
   "name": "python",
   "nbconvert_exporter": "python",
   "pygments_lexer": "ipython3",
   "version": "3.12.0"
  }
 },
 "nbformat": 4,
 "nbformat_minor": 2
}
