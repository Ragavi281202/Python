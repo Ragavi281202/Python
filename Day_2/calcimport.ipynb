{
 "cells": [
  {
   "cell_type": "code",
   "execution_count": 12,
   "metadata": {},
   "outputs": [
    {
     "name": "stdout",
     "output_type": "stream",
     "text": [
      "Subtraction\n",
      "x : 3 and y is : 8\n",
      "first number can't be small\n"
     ]
    }
   ],
   "source": [
    "import calc\n",
    "op=int(input(\"Enter operation to be performed : 1.add\\n 2.sub\\n 3.mul\\n 4.div\\n 5.mod\"))\n",
    "if(op==1):\n",
    "    x=int(input(\"Enter number : \"))\n",
    "    y=int(input(\"Enter number : \"))\n",
    "    add=calc.add(x,y)\n",
    "    print(\"Addition\")\n",
    "    print(\"x : {} and y is : {}\".format(x,y))\n",
    "    print(add)\n",
    "elif(op==2):\n",
    "    x=int(input(\"Enter number : \"))\n",
    "    y=int(input(\"Enter number : \"))\n",
    "    sub=calc.sub(x,y)\n",
    "    print(\"Subtraction\")\n",
    "    print(\"x : {} and y is : {}\".format(x,y))\n",
    "    print(sub)\n",
    "elif(op==3):\n",
    "    x=int(input(\"Enter number : \"))\n",
    "    y=int(input(\"Enter number : \"))\n",
    "    mul=calc.mul(x,y)\n",
    "    print(\"Multiplication\")\n",
    "    print(\"x : {} and y is : {}\".format(x,y))\n",
    "    print(mul)\n",
    "elif(op==4):\n",
    "    x=int(input(\"Enter number : \"))\n",
    "    y=int(input(\"Enter number : \"))\n",
    "    div=calc.div(x,y)\n",
    "    print(\"Division\")\n",
    "    print(\"x : {} and y is : {}\".format(x,y))\n",
    "    print(\"Div\",div)\n",
    "else:\n",
    "    x=int(input(\"Enter number : \"))\n",
    "    y=int(input(\"Enter number : \"))\n",
    "    mod=calc.mod(x,y)\n",
    "    print(\"Modulus\")\n",
    "    print(\"x : {} and y is : {}\".format(x,y))\n",
    "    print(\"Mod\",mod)"
   ]
  }
 ],
 "metadata": {
  "kernelspec": {
   "display_name": "venv",
   "language": "python",
   "name": "python3"
  },
  "language_info": {
   "codemirror_mode": {
    "name": "ipython",
    "version": 3
   },
   "file_extension": ".py",
   "mimetype": "text/x-python",
   "name": "python",
   "nbconvert_exporter": "python",
   "pygments_lexer": "ipython3",
   "version": "3.12.0"
  }
 },
 "nbformat": 4,
 "nbformat_minor": 2
}
