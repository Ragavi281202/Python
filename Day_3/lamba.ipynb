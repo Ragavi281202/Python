{
 "cells": [
  {
   "cell_type": "markdown",
   "metadata": {},
   "source": [
    "LAMBDA FUNCTIONS \n",
    "\n",
    "MAP()\n",
    "\n",
    "FILTER()\n",
    "\n",
    "REDUCE()"
   ]
  },
  {
   "cell_type": "code",
   "execution_count": 73,
   "metadata": {},
   "outputs": [],
   "source": [
    "def square_1(x):\n",
    "    return x**2"
   ]
  },
  {
   "cell_type": "code",
   "execution_count": 69,
   "metadata": {},
   "outputs": [],
   "source": [
    "def sum(x,y):\n",
    "    return x+y"
   ]
  },
  {
   "cell_type": "code",
   "execution_count": 24,
   "metadata": {},
   "outputs": [],
   "source": [
    "num=[1,2,3,4,5,6,7,8,9]"
   ]
  },
  {
   "cell_type": "code",
   "execution_count": 71,
   "metadata": {},
   "outputs": [
    {
     "name": "stdout",
     "output_type": "stream",
     "text": [
      "255\n"
     ]
    }
   ],
   "source": [
    "from functools import reduce\n",
    "even=reduce(sum,num)\n",
    "print(even)"
   ]
  },
  {
   "cell_type": "code",
   "execution_count": 32,
   "metadata": {},
   "outputs": [
    {
     "name": "stdout",
     "output_type": "stream",
     "text": [
      "(1, 4, 9, 16, 25, 36, 49, 64, 81)\n"
     ]
    }
   ],
   "source": [
    "from functools import reduce\n",
    "even=tuple(map(square_1,num))\n",
    "print(even)"
   ]
  },
  {
   "cell_type": "markdown",
   "metadata": {},
   "source": [
    "TASKS"
   ]
  },
  {
   "cell_type": "code",
   "execution_count": 43,
   "metadata": {},
   "outputs": [
    {
     "name": "stdout",
     "output_type": "stream",
     "text": [
      "25\n",
      "225\n",
      "625\n",
      "1225\n",
      "2025\n",
      "3025\n",
      "4225\n",
      "5625\n",
      "7225\n",
      "9025\n",
      "[25, 225, 625, 1225, 2025, 3025, 4225, 5625, 7225, 9025]\n"
     ]
    }
   ],
   "source": [
    "num=list(filter(lambda x:x%10==5,range(5,100)))\n",
    "for i in num:\n",
    "    sq=i**2\n",
    "    print(sq)\n",
    "square=list(map(lambda x:x**2,num))\n",
    "print(square)"
   ]
  },
  {
   "cell_type": "code",
   "execution_count": 47,
   "metadata": {},
   "outputs": [
    {
     "name": "stdout",
     "output_type": "stream",
     "text": [
      "588\n"
     ]
    }
   ],
   "source": [
    "num=list(filter(lambda x:x,range(5,101,8)))\n",
    "sum=(reduce(lambda x,y:x+y,num))\n",
    "print(sum)"
   ]
  },
  {
   "cell_type": "code",
   "execution_count": 58,
   "metadata": {},
   "outputs": [
    {
     "name": "stdout",
     "output_type": "stream",
     "text": [
      "[1, 2, 4, 8, 16, 32, 64, 128]\n",
      "255\n"
     ]
    }
   ],
   "source": [
    "num=list(map(lambda x:2**x,range(0,8)))\n",
    "print(num)\n",
    "sum=(reduce(lambda x,y:x+y,num))\n",
    "print(sum)"
   ]
  },
  {
   "cell_type": "markdown",
   "metadata": {},
   "source": [
    "List comprehension Task"
   ]
  },
  {
   "cell_type": "code",
   "execution_count": 65,
   "metadata": {},
   "outputs": [
    {
     "name": "stdout",
     "output_type": "stream",
     "text": [
      "['BUSOFT', 'ZOHO', 'INFOSYS', 'GOOGLE', 'MICROSOFT', 'TCS']\n"
     ]
    }
   ],
   "source": [
    "lst1=[\"busoft\",\"zoho\",\"infosys\",\"google\",\"microsoft\",\"tcs\"]\n",
    "capital=[i.upper() for i in lst1]\n",
    "print(capital)"
   ]
  },
  {
   "cell_type": "code",
   "execution_count": 66,
   "metadata": {},
   "outputs": [
    {
     "name": "stdout",
     "output_type": "stream",
     "text": [
      "['busoft', 'zoho', 'infosys', 'google', 'microsoft', 'tcs']\n"
     ]
    }
   ],
   "source": [
    "lst1=[\"busoft\",\"zoho\",\"infosys\",\"google\",\"microsoft\",\"tcs\"]\n",
    "small=[i.lower() for i in lst1]\n",
    "print(small)"
   ]
  },
  {
   "cell_type": "code",
   "execution_count": 67,
   "metadata": {},
   "outputs": [
    {
     "name": "stdout",
     "output_type": "stream",
     "text": [
      "['Busoft', 'Zoho', 'Infosys', 'Google', 'Microsoft', 'Tcs']\n"
     ]
    }
   ],
   "source": [
    "lst1=[\"busoft\",\"zoho\",\"infosys\",\"google\",\"microsoft\",\"tcs\"]\n",
    "title=[i.title() for i in lst1]\n",
    "print(title)"
   ]
  },
  {
   "cell_type": "code",
   "execution_count": 72,
   "metadata": {},
   "outputs": [
    {
     "name": "stdout",
     "output_type": "stream",
     "text": [
      "['BUSOFT', 'ZOHO', 'INFOSYS', 'GOOGLE', 'MICROSOFT', 'TCS']\n"
     ]
    }
   ],
   "source": [
    "lst1=[\"busoft\",\"zoho\",\"infosys\",\"google\",\"microsoft\",\"tcs\"]\n",
    "upper=list(map(lambda x:x.upper(),lst1))\n",
    "print(upper)"
   ]
  }
 ],
 "metadata": {
  "kernelspec": {
   "display_name": "venv",
   "language": "python",
   "name": "python3"
  },
  "language_info": {
   "codemirror_mode": {
    "name": "ipython",
    "version": 3
   },
   "file_extension": ".py",
   "mimetype": "text/x-python",
   "name": "python",
   "nbconvert_exporter": "python",
   "pygments_lexer": "ipython3",
   "version": "3.12.0"
  }
 },
 "nbformat": 4,
 "nbformat_minor": 2
}
