{
 "cells": [
  {
   "cell_type": "code",
   "execution_count": 11,
   "metadata": {},
   "outputs": [
    {
     "name": "stdout",
     "output_type": "stream",
     "text": [
      "h\n",
      "('rags', 'saro', 'bhuvana', 3845, ['shakthi', 'navi']) <class 'tuple'>\n"
     ]
    }
   ],
   "source": [
    "lst=[\"rags\",\"saro\",\"bhuvana\",3845,[\"shakthi\",\"navi\"]]\n",
    "print(lst[4][0][1])\n",
    "print(tuple(lst),type(tuple(lst)))"
   ]
  },
  {
   "cell_type": "code",
   "execution_count": 15,
   "metadata": {},
   "outputs": [
    {
     "name": "stdout",
     "output_type": "stream",
     "text": [
      "['rags', 'saro', 'bhuva', 'navi', 'shakthi', 'raji'] <class 'list'>\n",
      "{'bhuva', 'saro', 'shakthi', 'raji', 'rags', 'navi'} <class 'set'>\n",
      "['rags', 'saro', 'bhuva', 'navi', 'shakthi', 'raji'] <class 'list'>\n",
      "('rags', 'saro', 'bhuva', 'navi', 'shakthi', 'raji') <class 'tuple'>\n",
      "['geetha', 'geetha', 'bhuva', 'navi', 'shakthi', 'raji'] <class 'list'>\n"
     ]
    }
   ],
   "source": [
    "lst1=[\"rags\",\"saro\",\"bhuva\",\"navi\",\"shakthi\",\"raji\"]\n",
    "set1=set(lst1)\n",
    "tup1=tuple(lst1)\n",
    "lst2=list(tup1)\n",
    "print(lst2,type(lst2))\n",
    "print(set1,type(set1))\n",
    "print(lst1,type(lst1))\n",
    "print(tup1,type(tup1))\n",
    "\n",
    "lst1[0]=\"geetha\"\n",
    "lst1[1]=\"geetha\"\n",
    "print(lst1,type(lst1))"
   ]
  },
  {
   "cell_type": "code",
   "execution_count": 17,
   "metadata": {},
   "outputs": [
    {
     "name": "stdout",
     "output_type": "stream",
     "text": [
      "(23, 35, 33, 33) <class 'tuple'>\n",
      "[23, 35, 33, 33] <class 'list'>\n"
     ]
    }
   ],
   "source": [
    "tup3=(23,35,33,33)\n",
    "print(tup3,type(tup3))\n",
    "print(list(tup3),type(list(tup3)))\n"
   ]
  },
  {
   "cell_type": "markdown",
   "metadata": {},
   "source": [
    "LIST AND ITS OPERATIONS"
   ]
  },
  {
   "cell_type": "code",
   "execution_count": 25,
   "metadata": {},
   "outputs": [
    {
     "name": "stdout",
     "output_type": "stream",
     "text": [
      "<class 'set'>\n"
     ]
    }
   ],
   "source": [
    "fuel_lst=[\"petrol\",\"diesel\",\"biodiesel\",\"gasoline\",\"coal\",\"acetylene\"]\n",
    "#list to set\n",
    "fuel_set=set(fuel_lst)\n",
    "print(type(fuel_set))\n"
   ]
  },
  {
   "cell_type": "code",
   "execution_count": 26,
   "metadata": {},
   "outputs": [
    {
     "name": "stdout",
     "output_type": "stream",
     "text": [
      "<class 'tuple'>\n"
     ]
    }
   ],
   "source": [
    "#list to tuple\n",
    "fuel_tup=tuple(fuel_lst)\n",
    "print(type(fuel_tup))"
   ]
  },
  {
   "cell_type": "code",
   "execution_count": 27,
   "metadata": {},
   "outputs": [
    {
     "name": "stdout",
     "output_type": "stream",
     "text": [
      "['petrol', 'diesel', 'biodiesel', 'gasoline', 'coal', 'acetylene', 'charcoal']\n"
     ]
    }
   ],
   "source": [
    "#for adding single element in the list\n",
    "fuel_lst.append(\"charcoal\")\n",
    "print(fuel_lst)"
   ]
  },
  {
   "cell_type": "code",
   "execution_count": 28,
   "metadata": {},
   "outputs": [
    {
     "name": "stdout",
     "output_type": "stream",
     "text": [
      "['petrol', 'diesel', 'biodiesel', 'gasoline', 'coal', 'acetylene', 'charcoal', 33, 45, 66]\n"
     ]
    }
   ],
   "source": [
    "#for adding a list to another list\n",
    "fuel_lst.extend([33,45,66])\n",
    "print(fuel_lst)"
   ]
  },
  {
   "cell_type": "code",
   "execution_count": 29,
   "metadata": {},
   "outputs": [
    {
     "name": "stdout",
     "output_type": "stream",
     "text": [
      "['petrol', 'diesel', 'biodiesel', 'gasoline', 'coal', 'acetylene', 'charcoal', 33, 45, 66, 'r', 'a', 'j', 'u']\n"
     ]
    }
   ],
   "source": [
    "#if the extend is used for adding a single name then it seperated the string\n",
    "fuel_lst.extend(\"raju\")\n",
    "print(fuel_lst)"
   ]
  },
  {
   "cell_type": "code",
   "execution_count": 30,
   "metadata": {},
   "outputs": [
    {
     "name": "stdout",
     "output_type": "stream",
     "text": [
      "['petrol', 'diesel', 'biodiesel', 'oil', 'gasoline', 'coal', 'acetylene', 'charcoal', 33, 45, 66, 'r', 'a', 'j', 'u']\n"
     ]
    }
   ],
   "source": [
    "#insert(pos,\"value\")\n",
    "fuel_lst.insert(3,\"oil\")\n",
    "print(fuel_lst)"
   ]
  },
  {
   "cell_type": "code",
   "execution_count": 31,
   "metadata": {},
   "outputs": [
    {
     "ename": "TypeError",
     "evalue": "insert expected 2 arguments, got 1",
     "output_type": "error",
     "traceback": [
      "\u001b[1;31m---------------------------------------------------------------------------\u001b[0m",
      "\u001b[1;31mTypeError\u001b[0m                                 Traceback (most recent call last)",
      "Cell \u001b[1;32mIn[31], line 2\u001b[0m\n\u001b[0;32m      1\u001b[0m \u001b[38;5;66;03m#insert() withut position\u001b[39;00m\n\u001b[1;32m----> 2\u001b[0m \u001b[43mfuel_lst\u001b[49m\u001b[38;5;241;43m.\u001b[39;49m\u001b[43minsert\u001b[49m\u001b[43m(\u001b[49m\u001b[38;5;124;43m\"\u001b[39;49m\u001b[38;5;124;43mspeed-petrol\u001b[39;49m\u001b[38;5;124;43m\"\u001b[39;49m\u001b[43m)\u001b[49m\n\u001b[0;32m      3\u001b[0m \u001b[38;5;28mprint\u001b[39m(fuel_lst)\n",
      "\u001b[1;31mTypeError\u001b[0m: insert expected 2 arguments, got 1"
     ]
    }
   ],
   "source": [
    "#insert() withut position\n",
    "fuel_lst.insert(\"speed-petrol\")\n",
    "print(fuel_lst)"
   ]
  },
  {
   "cell_type": "code",
   "execution_count": 32,
   "metadata": {},
   "outputs": [
    {
     "ename": "ValueError",
     "evalue": "list.remove(x): x not in list",
     "output_type": "error",
     "traceback": [
      "\u001b[1;31m---------------------------------------------------------------------------\u001b[0m",
      "\u001b[1;31mValueError\u001b[0m                                Traceback (most recent call last)",
      "Cell \u001b[1;32mIn[32], line 2\u001b[0m\n\u001b[0;32m      1\u001b[0m \u001b[38;5;66;03m#remove() with index\u001b[39;00m\n\u001b[1;32m----> 2\u001b[0m \u001b[43mfuel_lst\u001b[49m\u001b[38;5;241;43m.\u001b[39;49m\u001b[43mremove\u001b[49m\u001b[43m(\u001b[49m\u001b[38;5;241;43m0\u001b[39;49m\u001b[43m)\u001b[49m\n\u001b[0;32m      3\u001b[0m \u001b[38;5;28mprint\u001b[39m(fuel_lst)\n",
      "\u001b[1;31mValueError\u001b[0m: list.remove(x): x not in list"
     ]
    }
   ],
   "source": [
    "#remove() with index\n",
    "fuel_lst.remove(0)\n",
    "print(fuel_lst)"
   ]
  },
  {
   "cell_type": "code",
   "execution_count": 33,
   "metadata": {},
   "outputs": [
    {
     "name": "stdout",
     "output_type": "stream",
     "text": [
      "['petrol', 'diesel', 'biodiesel', 'gasoline', 'coal', 'acetylene', 'charcoal', 33, 45, 66, 'r', 'a', 'j', 'u']\n"
     ]
    }
   ],
   "source": [
    "#remove(\"value\") is used to delete with the given value not with the index\n",
    "#remove(\"value\") can delete only with the elements\n",
    "fuel_lst.remove(\"oil\")\n",
    "print(fuel_lst)"
   ]
  },
  {
   "cell_type": "code",
   "execution_count": 34,
   "metadata": {},
   "outputs": [
    {
     "name": "stdout",
     "output_type": "stream",
     "text": [
      "['petrol', 'diesel', 'biodiesel', 'gasoline', 'coal', 'acetylene', 'charcoal', 33, 45, 66, 'r', 'a', 'j']\n"
     ]
    }
   ],
   "source": [
    "#pop() delete the last element\n",
    "fuel_lst.pop()\n",
    "print(fuel_lst)"
   ]
  },
  {
   "cell_type": "code",
   "execution_count": 35,
   "metadata": {},
   "outputs": [
    {
     "ename": "TypeError",
     "evalue": "'str' object cannot be interpreted as an integer",
     "output_type": "error",
     "traceback": [
      "\u001b[1;31m---------------------------------------------------------------------------\u001b[0m",
      "\u001b[1;31mTypeError\u001b[0m                                 Traceback (most recent call last)",
      "Cell \u001b[1;32mIn[35], line 2\u001b[0m\n\u001b[0;32m      1\u001b[0m \u001b[38;5;66;03m#pop(pos) cannot delete the element with the element\u001b[39;00m\n\u001b[1;32m----> 2\u001b[0m \u001b[43mfuel_lst\u001b[49m\u001b[38;5;241;43m.\u001b[39;49m\u001b[43mpop\u001b[49m\u001b[43m(\u001b[49m\u001b[38;5;124;43m\"\u001b[39;49m\u001b[38;5;124;43mj\u001b[39;49m\u001b[38;5;124;43m\"\u001b[39;49m\u001b[43m)\u001b[49m\n\u001b[0;32m      3\u001b[0m \u001b[38;5;28mprint\u001b[39m(fuel_lst)\n",
      "\u001b[1;31mTypeError\u001b[0m: 'str' object cannot be interpreted as an integer"
     ]
    }
   ],
   "source": [
    "#pop(pos) cannot delete the element with the element\n",
    "fuel_lst.pop(\"j\")\n",
    "print(fuel_lst)"
   ]
  },
  {
   "cell_type": "code",
   "execution_count": 36,
   "metadata": {},
   "outputs": [
    {
     "name": "stdout",
     "output_type": "stream",
     "text": [
      "['petrol', 'diesel', 'gasoline', 'coal', 'acetylene', 'charcoal', 33, 45, 66, 'r', 'a', 'j']\n"
     ]
    }
   ],
   "source": [
    "#pop(pos) delete only with the position\n",
    "fuel_lst.pop(2)\n",
    "print(fuel_lst)"
   ]
  },
  {
   "cell_type": "code",
   "execution_count": 37,
   "metadata": {},
   "outputs": [
    {
     "name": "stdout",
     "output_type": "stream",
     "text": [
      "0\n"
     ]
    }
   ],
   "source": [
    "#index(pos) returns the position of the given element\n",
    "print(fuel_lst.index(\"petrol\"))"
   ]
  },
  {
   "cell_type": "code",
   "execution_count": 38,
   "metadata": {},
   "outputs": [
    {
     "ename": "TypeError",
     "evalue": "list.count() takes exactly one argument (0 given)",
     "output_type": "error",
     "traceback": [
      "\u001b[1;31m---------------------------------------------------------------------------\u001b[0m",
      "\u001b[1;31mTypeError\u001b[0m                                 Traceback (most recent call last)",
      "Cell \u001b[1;32mIn[38], line 2\u001b[0m\n\u001b[0;32m      1\u001b[0m \u001b[38;5;66;03m#count(\"value\") count the duplicate elements\u001b[39;00m\n\u001b[1;32m----> 2\u001b[0m \u001b[38;5;28mprint\u001b[39m(\u001b[43mfuel_lst\u001b[49m\u001b[38;5;241;43m.\u001b[39;49m\u001b[43mcount\u001b[49m\u001b[43m(\u001b[49m\u001b[43m)\u001b[49m)\n",
      "\u001b[1;31mTypeError\u001b[0m: list.count() takes exactly one argument (0 given)"
     ]
    }
   ],
   "source": [
    "#count(\"value\") count the duplicate elements\n",
    "print(fuel_lst.count())"
   ]
  },
  {
   "cell_type": "code",
   "execution_count": 39,
   "metadata": {},
   "outputs": [
    {
     "name": "stdout",
     "output_type": "stream",
     "text": [
      "1\n"
     ]
    }
   ],
   "source": [
    "print(fuel_lst.count(\"r\"))"
   ]
  },
  {
   "cell_type": "code",
   "execution_count": 40,
   "metadata": {},
   "outputs": [
    {
     "ename": "TypeError",
     "evalue": "'<' not supported between instances of 'int' and 'str'",
     "output_type": "error",
     "traceback": [
      "\u001b[1;31m---------------------------------------------------------------------------\u001b[0m",
      "\u001b[1;31mTypeError\u001b[0m                                 Traceback (most recent call last)",
      "Cell \u001b[1;32mIn[40], line 2\u001b[0m\n\u001b[0;32m      1\u001b[0m \u001b[38;5;66;03m#sort cannot be done for the list which contains both integers and strings\u001b[39;00m\n\u001b[1;32m----> 2\u001b[0m \u001b[43mfuel_lst\u001b[49m\u001b[38;5;241;43m.\u001b[39;49m\u001b[43msort\u001b[49m\u001b[43m(\u001b[49m\u001b[43m)\u001b[49m\n\u001b[0;32m      3\u001b[0m \u001b[38;5;28mprint\u001b[39m(fuel_lst)\n",
      "\u001b[1;31mTypeError\u001b[0m: '<' not supported between instances of 'int' and 'str'"
     ]
    }
   ],
   "source": [
    "#sort cannot be done for the list which contains both integers and strings\n",
    "fuel_lst.sort()\n",
    "print(fuel_lst)"
   ]
  },
  {
   "cell_type": "code",
   "execution_count": 41,
   "metadata": {},
   "outputs": [],
   "source": [
    "fuel_lst.remove(33)\n",
    "fuel_lst.remove(45)\n",
    "fuel_lst.remove(66)"
   ]
  },
  {
   "cell_type": "code",
   "execution_count": 42,
   "metadata": {},
   "outputs": [
    {
     "name": "stdout",
     "output_type": "stream",
     "text": [
      "['a', 'acetylene', 'charcoal', 'coal', 'diesel', 'gasoline', 'j', 'petrol', 'r']\n"
     ]
    }
   ],
   "source": [
    "fuel_lst.sort()\n",
    "print(fuel_lst)"
   ]
  },
  {
   "cell_type": "code",
   "execution_count": 43,
   "metadata": {},
   "outputs": [
    {
     "name": "stdout",
     "output_type": "stream",
     "text": [
      "['r', 'petrol', 'j', 'gasoline', 'diesel', 'coal', 'charcoal', 'acetylene', 'a']\n"
     ]
    }
   ],
   "source": [
    "#reverse\n",
    "fuel_lst.reverse()\n",
    "print(fuel_lst)"
   ]
  },
  {
   "cell_type": "code",
   "execution_count": 44,
   "metadata": {},
   "outputs": [
    {
     "name": "stdout",
     "output_type": "stream",
     "text": [
      "['r', 'petrol', 'j', 'gasoline', 'diesel', 'coal', 'charcoal', 'acetylene', 'a'] 1\n",
      "['r', 'petrol', 'j', 'gasoline', 'diesel', 'coal', 'charcoal', 'acetylene', 'a'] 1\n"
     ]
    }
   ],
   "source": [
    "#this is deep copy\n",
    "fuel_lst1=fuel_lst.copy()\n",
    "print(fuel_lst1,fuel_lst1.index(\"petrol\"))\n",
    "print(fuel_lst,fuel_lst.index(\"petrol\"))"
   ]
  },
  {
   "cell_type": "code",
   "execution_count": 45,
   "metadata": {},
   "outputs": [
    {
     "name": "stdout",
     "output_type": "stream",
     "text": [
      "['r', 'petrol', 'j', 'gasoline', 'diesel', 'coal', 'charcoal', 'acetylene', 'a', 'biodiesel']\n"
     ]
    }
   ],
   "source": [
    "fuel_lst1.append(\"biodiesel\")\n",
    "print(fuel_lst1)\n"
   ]
  },
  {
   "cell_type": "code",
   "execution_count": 46,
   "metadata": {},
   "outputs": [
    {
     "name": "stdout",
     "output_type": "stream",
     "text": [
      "['r', 'petrol', 'j', 'gasoline', 'diesel', 'coal', 'charcoal', 'acetylene', 'a']\n"
     ]
    }
   ],
   "source": [
    "print(fuel_lst)"
   ]
  },
  {
   "cell_type": "code",
   "execution_count": 47,
   "metadata": {},
   "outputs": [],
   "source": [
    "#clear\n",
    "fuel_lst1.clear()"
   ]
  },
  {
   "cell_type": "code",
   "execution_count": 48,
   "metadata": {},
   "outputs": [
    {
     "name": "stdout",
     "output_type": "stream",
     "text": [
      "[]\n"
     ]
    }
   ],
   "source": [
    "print(fuel_lst1)"
   ]
  },
  {
   "cell_type": "markdown",
   "metadata": {},
   "source": [
    "TUPLE AND ITS OPERATIONS"
   ]
  },
  {
   "cell_type": "code",
   "execution_count": 49,
   "metadata": {},
   "outputs": [
    {
     "name": "stdout",
     "output_type": "stream",
     "text": [
      "('petrol', 'diesel', 'biodiesel', 'gasoline', 'coal', 'acetylene')\n"
     ]
    }
   ],
   "source": [
    "#packaging\n",
    "print(fuel_tup)"
   ]
  },
  {
   "cell_type": "code",
   "execution_count": 50,
   "metadata": {},
   "outputs": [
    {
     "ename": "TypeError",
     "evalue": "can only concatenate tuple (not \"int\") to tuple",
     "output_type": "error",
     "traceback": [
      "\u001b[1;31m---------------------------------------------------------------------------\u001b[0m",
      "\u001b[1;31mTypeError\u001b[0m                                 Traceback (most recent call last)",
      "Cell \u001b[1;32mIn[50], line 5\u001b[0m\n\u001b[0;32m      1\u001b[0m \u001b[38;5;66;03m#unpackaging\u001b[39;00m\n\u001b[0;32m      2\u001b[0m \u001b[38;5;66;03m#if there is only one element in a tuple then the tuple is considered as a single element not a tuple\u001b[39;00m\n\u001b[0;32m      3\u001b[0m \u001b[38;5;66;03m#eg (1)==1\u001b[39;00m\n\u001b[0;32m      4\u001b[0m \u001b[38;5;66;03m#eg (\"rags\")==\"rags\"\u001b[39;00m\n\u001b[1;32m----> 5\u001b[0m fuel_tup1\u001b[38;5;241m=\u001b[39m\u001b[43mfuel_tup\u001b[49m\u001b[38;5;241;43m+\u001b[39;49m\u001b[43m(\u001b[49m\u001b[38;5;241;43m1\u001b[39;49m\u001b[43m)\u001b[49m\n\u001b[0;32m      6\u001b[0m \u001b[38;5;28mprint\u001b[39m(fuel_tup1)\n",
      "\u001b[1;31mTypeError\u001b[0m: can only concatenate tuple (not \"int\") to tuple"
     ]
    }
   ],
   "source": [
    "#unpackaging\n",
    "#if there is only one element in a tuple then the tuple is considered as a single element not a tuple\n",
    "#eg (1)==1\n",
    "#eg (\"rags\")==\"rags\"\n",
    "fuel_tup1=fuel_tup+(1)\n",
    "print(fuel_tup1)"
   ]
  },
  {
   "cell_type": "code",
   "execution_count": 51,
   "metadata": {},
   "outputs": [
    {
     "name": "stdout",
     "output_type": "stream",
     "text": [
      "('petrol', 'diesel', 'biodiesel', 'gasoline', 'coal', 'acetylene', 1, 2)\n"
     ]
    }
   ],
   "source": [
    "#unpackaging \n",
    "fuel_tup1=fuel_tup+(1,2)\n",
    "print(fuel_tup1)"
   ]
  },
  {
   "cell_type": "code",
   "execution_count": 52,
   "metadata": {},
   "outputs": [
    {
     "name": "stdout",
     "output_type": "stream",
     "text": [
      "('petrol', 'diesel', 'biodiesel', 'gasoline', 'coal', 'acetylene', 3, 4, 5)\n"
     ]
    }
   ],
   "source": [
    "#unpackaging\n",
    "fuel_tup2=(3,4,5)\n",
    "fuel_tup1=fuel_tup+fuel_tup2\n",
    "print(fuel_tup1)"
   ]
  },
  {
   "cell_type": "code",
   "execution_count": 53,
   "metadata": {},
   "outputs": [
    {
     "name": "stdout",
     "output_type": "stream",
     "text": [
      "1\n"
     ]
    }
   ],
   "source": [
    "print(fuel_tup.count(\"petrol\"))\n"
   ]
  },
  {
   "cell_type": "code",
   "execution_count": 54,
   "metadata": {},
   "outputs": [
    {
     "name": "stdout",
     "output_type": "stream",
     "text": [
      "0\n"
     ]
    }
   ],
   "source": [
    "print(fuel_tup.index(\"petrol\"))"
   ]
  },
  {
   "cell_type": "markdown",
   "metadata": {},
   "source": [
    "DICTIONARY AND ITS OPERATIONS"
   ]
  },
  {
   "cell_type": "code",
   "execution_count": 4,
   "metadata": {},
   "outputs": [],
   "source": [
    "dict_info={\"name\":\"Rags\",\"age\":21,\"dept\":\"cse\",\"clg\":\"RIT\",\"regno\":38}\n"
   ]
  },
  {
   "cell_type": "code",
   "execution_count": 6,
   "metadata": {},
   "outputs": [
    {
     "name": "stdout",
     "output_type": "stream",
     "text": [
      "dict_items([('name', 'Rags'), ('age', 21), ('dept', 'cse'), ('clg', 'RIT'), ('regno', 38)])\n"
     ]
    }
   ],
   "source": [
    "print(dict_info.items())"
   ]
  },
  {
   "cell_type": "code",
   "execution_count": 8,
   "metadata": {},
   "outputs": [
    {
     "name": "stdout",
     "output_type": "stream",
     "text": [
      "dict_keys(['name', 'age', 'dept', 'clg', 'regno'])\n"
     ]
    }
   ],
   "source": [
    "print(dict_info.keys())"
   ]
  },
  {
   "cell_type": "code",
   "execution_count": 10,
   "metadata": {},
   "outputs": [
    {
     "name": "stdout",
     "output_type": "stream",
     "text": [
      "dict_values(['Rags', 21, 'cse', 'RIT', 38])\n"
     ]
    }
   ],
   "source": [
    "print(dict_info.values())"
   ]
  },
  {
   "cell_type": "code",
   "execution_count": 11,
   "metadata": {},
   "outputs": [
    {
     "name": "stdout",
     "output_type": "stream",
     "text": [
      "{'age': 21, 'dept': 'cse', 'clg': 'RIT', 'regno': 38}\n"
     ]
    }
   ],
   "source": [
    "#pop\n",
    "dict_info.pop(\"name\")\n",
    "print(dict_info)"
   ]
  },
  {
   "cell_type": "code",
   "execution_count": 14,
   "metadata": {},
   "outputs": [
    {
     "name": "stdout",
     "output_type": "stream",
     "text": [
      "{'age': 21, 'dept': 'cse', 'clg': 'RIT', 'regno': 38, 'name': 'Rags'}\n"
     ]
    }
   ],
   "source": [
    "dict_info.update({\"name\":\"Rags\"})\n",
    "print(dict_info)"
   ]
  },
  {
   "cell_type": "code",
   "execution_count": 16,
   "metadata": {},
   "outputs": [
    {
     "name": "stdout",
     "output_type": "stream",
     "text": [
      "{'age': 21, 'dept': 'cse', 'clg': 'RIT'}\n"
     ]
    }
   ],
   "source": [
    "dict_info.popitem()\n",
    "print(dict_info)"
   ]
  },
  {
   "cell_type": "code",
   "execution_count": 17,
   "metadata": {},
   "outputs": [
    {
     "name": "stdout",
     "output_type": "stream",
     "text": [
      "{'age': 21, 'dept': 'cse', 'clg': 'RIT'}\n"
     ]
    }
   ],
   "source": [
    "dict_info1=dict_info.copy()\n",
    "print(dict_info1)"
   ]
  },
  {
   "cell_type": "code",
   "execution_count": 19,
   "metadata": {},
   "outputs": [
    {
     "name": "stdout",
     "output_type": "stream",
     "text": [
      "{'age': 21, 'dept': 'cse', 'clg': 'RIT', 'name': 'rags'}\n",
      "{'age': 21, 'dept': 'cse', 'clg': 'RIT'}\n"
     ]
    }
   ],
   "source": [
    "dict_info1.update({\"name\":\"rags\"})\n",
    "print(dict_info1)\n",
    "print(dict_info)"
   ]
  },
  {
   "cell_type": "code",
   "execution_count": 20,
   "metadata": {},
   "outputs": [
    {
     "name": "stdout",
     "output_type": "stream",
     "text": [
      "{}\n"
     ]
    }
   ],
   "source": [
    "dict_info1.clear()\n",
    "print(dict_info1)"
   ]
  },
  {
   "cell_type": "code",
   "execution_count": 22,
   "metadata": {},
   "outputs": [
    {
     "name": "stdout",
     "output_type": "stream",
     "text": [
      "{'age': 38, 'dept': 'cse', 'clg': 'RIT'}\n"
     ]
    }
   ],
   "source": [
    "dict_info.update({\"age\":38})\n",
    "print(dict_info)"
   ]
  },
  {
   "cell_type": "code",
   "execution_count": 23,
   "metadata": {},
   "outputs": [
    {
     "name": "stdout",
     "output_type": "stream",
     "text": [
      "{'age': 38, 'dept': 'cse', 'clg': 'RIT'}\n"
     ]
    }
   ],
   "source": [
    "dict_info.update({\"age\":38})\n",
    "print(dict_info)"
   ]
  },
  {
   "cell_type": "markdown",
   "metadata": {},
   "source": [
    "SET AND ITS OPERATIONS"
   ]
  },
  {
   "cell_type": "code",
   "execution_count": 56,
   "metadata": {},
   "outputs": [
    {
     "name": "stdout",
     "output_type": "stream",
     "text": [
      "{'petrol', 'diesel', 'coal', 'gasoline', 'biodiesel', 'acetylene'}\n"
     ]
    }
   ],
   "source": [
    "print(fuel_set)"
   ]
  },
  {
   "cell_type": "code",
   "execution_count": 60,
   "metadata": {},
   "outputs": [
    {
     "name": "stdout",
     "output_type": "stream",
     "text": [
      "{'petrol', 'diesel', 'coal', 'gasoline', 'charcoal', 'biodiesel', 'acetylene'}\n"
     ]
    }
   ],
   "source": [
    "fuel_set.add(\"charcoal\")\n",
    "print(fuel_set)"
   ]
  },
  {
   "cell_type": "code",
   "execution_count": 61,
   "metadata": {},
   "outputs": [
    {
     "name": "stdout",
     "output_type": "stream",
     "text": [
      "{'petrol', 'diesel', 'coal', 'gasoline', 'biodiesel', 'acetylene'}\n"
     ]
    }
   ],
   "source": [
    "fuel_set.remove(\"charcoal\")\n",
    "print(fuel_set)"
   ]
  },
  {
   "cell_type": "code",
   "execution_count": 62,
   "metadata": {},
   "outputs": [
    {
     "ename": "KeyError",
     "evalue": "'charcoal'",
     "output_type": "error",
     "traceback": [
      "\u001b[1;31m---------------------------------------------------------------------------\u001b[0m",
      "\u001b[1;31mKeyError\u001b[0m                                  Traceback (most recent call last)",
      "Cell \u001b[1;32mIn[62], line 1\u001b[0m\n\u001b[1;32m----> 1\u001b[0m \u001b[43mfuel_set\u001b[49m\u001b[38;5;241;43m.\u001b[39;49m\u001b[43mremove\u001b[49m\u001b[43m(\u001b[49m\u001b[38;5;124;43m\"\u001b[39;49m\u001b[38;5;124;43mcharcoal\u001b[39;49m\u001b[38;5;124;43m\"\u001b[39;49m\u001b[43m)\u001b[49m\n\u001b[0;32m      2\u001b[0m \u001b[38;5;28mprint\u001b[39m(fuel_set)\n",
      "\u001b[1;31mKeyError\u001b[0m: 'charcoal'"
     ]
    }
   ],
   "source": [
    "#remove if element exists else raise error\n",
    "fuel_set.remove(\"charcoal\")\n",
    "print(fuel_set)"
   ]
  },
  {
   "cell_type": "code",
   "execution_count": 63,
   "metadata": {},
   "outputs": [
    {
     "name": "stdout",
     "output_type": "stream",
     "text": [
      "{'petrol', 'diesel', 'coal', 'gasoline', 'biodiesel', 'acetylene'}\n"
     ]
    }
   ],
   "source": [
    "#discard  doesn't raise errors if the element is not present\n",
    "fuel_set.discard(\"charcoal\")\n",
    "print(fuel_set)"
   ]
  },
  {
   "cell_type": "code",
   "execution_count": 64,
   "metadata": {},
   "outputs": [
    {
     "name": "stdout",
     "output_type": "stream",
     "text": [
      "False\n"
     ]
    }
   ],
   "source": [
    "#subset\n",
    "sub={1,2}.issubset(fuel_set)\n",
    "print(sub)"
   ]
  },
  {
   "cell_type": "code",
   "execution_count": 66,
   "metadata": {},
   "outputs": [
    {
     "name": "stdout",
     "output_type": "stream",
     "text": [
      "False\n"
     ]
    }
   ],
   "source": [
    "#superset\n",
    "sub=fuel_set.issuperset({1,2})\n",
    "print(sub)"
   ]
  },
  {
   "cell_type": "code",
   "execution_count": 67,
   "metadata": {},
   "outputs": [
    {
     "name": "stdout",
     "output_type": "stream",
     "text": [
      "{1, 2, 3, 4, 'petrol', 5, 'diesel', 'coal', 'gasoline', 'biodiesel', 'acetylene'}\n"
     ]
    }
   ],
   "source": [
    "#union\n",
    "fuel_set1={1,2,3,4,5}\n",
    "print(fuel_set|fuel_set1)"
   ]
  },
  {
   "cell_type": "code",
   "execution_count": 72,
   "metadata": {},
   "outputs": [
    {
     "name": "stdout",
     "output_type": "stream",
     "text": [
      "{'coal'}\n"
     ]
    }
   ],
   "source": [
    "#intersection\n",
    "print(fuel_set & fuel_set1)"
   ]
  },
  {
   "cell_type": "code",
   "execution_count": 73,
   "metadata": {},
   "outputs": [],
   "source": [
    "fuel_set1.remove(\"coal\")"
   ]
  },
  {
   "cell_type": "code",
   "execution_count": 74,
   "metadata": {},
   "outputs": [
    {
     "name": "stdout",
     "output_type": "stream",
     "text": [
      "set()\n"
     ]
    }
   ],
   "source": [
    "#intersection if no intersection\n",
    "print(fuel_set & fuel_set1)"
   ]
  },
  {
   "cell_type": "code",
   "execution_count": 75,
   "metadata": {},
   "outputs": [
    {
     "name": "stdout",
     "output_type": "stream",
     "text": [
      "{'petrol', 'diesel', 'coal', 'gasoline', 'biodiesel', 'acetylene'}\n"
     ]
    }
   ],
   "source": [
    "#difference\n",
    "print(fuel_set-fuel_set1)"
   ]
  },
  {
   "cell_type": "code",
   "execution_count": 76,
   "metadata": {},
   "outputs": [
    {
     "name": "stdout",
     "output_type": "stream",
     "text": [
      "{1, 2, 3, 4, 5, 'diesel', 'gasoline', 'petrol', 'coal', 'biodiesel', 'acetylene'}\n"
     ]
    }
   ],
   "source": [
    "#symmetric difference\n",
    "print(fuel_set^fuel_set1)"
   ]
  },
  {
   "cell_type": "code",
   "execution_count": 77,
   "metadata": {},
   "outputs": [
    {
     "name": "stdout",
     "output_type": "stream",
     "text": [
      "True\n"
     ]
    }
   ],
   "source": [
    "#disjoint\n",
    "print(fuel_set.isdisjoint(fuel_set1))"
   ]
  },
  {
   "cell_type": "code",
   "execution_count": 78,
   "metadata": {},
   "outputs": [
    {
     "name": "stdout",
     "output_type": "stream",
     "text": [
      "{'petrol', 'biodiesel', 'diesel', 'coal', 'acetylene', 'gasoline'}\n"
     ]
    }
   ],
   "source": [
    "fuel_set2=fuel_set.copy()\n",
    "print(fuel_set2)"
   ]
  },
  {
   "cell_type": "code",
   "execution_count": 79,
   "metadata": {},
   "outputs": [
    {
     "name": "stdout",
     "output_type": "stream",
     "text": [
      "{'diesel', 'coal', 'gasoline', 'biodiesel', 'acetylene'}\n"
     ]
    }
   ],
   "source": [
    "#pop() deletes first element\n",
    "fuel_set.pop()\n",
    "print(fuel_set)"
   ]
  },
  {
   "cell_type": "code",
   "execution_count": 80,
   "metadata": {},
   "outputs": [
    {
     "name": "stdout",
     "output_type": "stream",
     "text": [
      "{'coal', 'gasoline', 'biodiesel', 'acetylene'}\n"
     ]
    }
   ],
   "source": [
    "fuel_set.pop()\n",
    "print(fuel_set)"
   ]
  }
 ],
 "metadata": {
  "kernelspec": {
   "display_name": "venv",
   "language": "python",
   "name": "python3"
  },
  "language_info": {
   "codemirror_mode": {
    "name": "ipython",
    "version": 3
   },
   "file_extension": ".py",
   "mimetype": "text/x-python",
   "name": "python",
   "nbconvert_exporter": "python",
   "pygments_lexer": "ipython3",
   "version": "3.12.0"
  }
 },
 "nbformat": 4,
 "nbformat_minor": 2
}
