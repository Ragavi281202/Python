{
 "cells": [
  {
   "cell_type": "code",
   "execution_count": 1,
   "metadata": {},
   "outputs": [
    {
     "name": "stdout",
     "output_type": "stream",
     "text": [
      "hello world\n"
     ]
    }
   ],
   "source": [
    "print(\"hello world\")"
   ]
  },
  {
   "cell_type": "markdown",
   "metadata": {},
   "source": [
    "Working with JSON (JavaScript Object Notation) files in Python involves reading JSON data from a file or string and writing JSON data to a file. Python provides the json module for easy handling of JSON data. Here's how you can read and write JSON files in Python:\n",
    "Reading JSON Files:\n",
    "\n",
    "    Using json.load:\n",
    "        Use json.load to load JSON data from a file."
   ]
  },
  {
   "cell_type": "code",
   "execution_count": 1,
   "metadata": {},
   "outputs": [
    {
     "name": "stdout",
     "output_type": "stream",
     "text": [
      "{'fruit': 'Apple', 'size': 'Large', 'color': 'Red'}\n"
     ]
    }
   ],
   "source": [
    "import json\n",
    "\n",
    "# Open the JSON file in read mode\n",
    "with open('data.json', 'r') as file:\n",
    "    # Load JSON data\n",
    "    data = json.load(file)\n",
    "\n",
    "# Now 'data' contains the JSON data as a Python dictionary\n",
    "print(data)\n"
   ]
  },
  {
   "cell_type": "markdown",
   "metadata": {},
   "source": [
    "Writing JSON Files:\n",
    "\n",
    "    Using json.dump:\n",
    "        Use json.dump to write JSON data to a file."
   ]
  },
  {
   "cell_type": "code",
   "execution_count": 2,
   "metadata": {},
   "outputs": [
    {
     "name": "stdout",
     "output_type": "stream",
     "text": [
      "JSON data written successfully.\n"
     ]
    }
   ],
   "source": [
    "import json\n",
    "\n",
    "# Sample data (Python dictionary)\n",
    "data = {\n",
    "    'name': 'Alice',\n",
    "    'age': 30,\n",
    "    'city': 'New York',  \n",
    "    'priya':\"AIDS\"\n",
    "}\n",
    "\n",
    "# Open the JSON file in write mode\n",
    "with open('output.json', 'w') as file:\n",
    "    # Write JSON data to the file\n",
    "    json.dump(data, file)\n",
    "\n",
    "print('JSON data written successfully.')\n"
   ]
  },
  {
   "cell_type": "markdown",
   "metadata": {},
   "source": [
    "    Using json.dumps:\n",
    "        Use json.dumps to serialize Python objects to a JSON formatted string, which can then be written to a file."
   ]
  },
  {
   "cell_type": "code",
   "execution_count": 4,
   "metadata": {},
   "outputs": [
    {
     "name": "stdout",
     "output_type": "stream",
     "text": [
      "JSON data written successfully.\n"
     ]
    }
   ],
   "source": [
    "import json\n",
    "\n",
    "# Sample data (Python dictionary)\n",
    "data = {\n",
    "    'name': 'Bob',\n",
    "    'age': 25,\n",
    "    'city': 'Los Angeles'\n",
    "}\n",
    "\n",
    "# Serialize Python dictionary to a JSON formatted string\n",
    "json_str = json.dumps(data)\n",
    "\n",
    "# Open the JSON file in write mode\n",
    "with open('output_1.json', 'w') as file:\n",
    "    # Write JSON string to the file\n",
    "    file.write(json_str)\n",
    "\n",
    "print('JSON data written successfully.')\n"
   ]
  },
  {
   "cell_type": "markdown",
   "metadata": {},
   "source": [
    "In both examples, we first create Python dictionaries (data in this case) containing the data we want to write to the JSON file. Then, we use json.dump or json.dumps to write the data to the file in JSON format.\n",
    "\n",
    "When reading JSON files, json.load is used to load JSON data from the file into a Python dictionary or list.\n",
    "\n",
    "Adjust the code as needed based on your JSON data structure and requirements. JSON is commonly used for data interchange between systems and is quite versatile in representing structured data."
   ]
  },
  {
   "cell_type": "code",
   "execution_count": null,
   "metadata": {},
   "outputs": [],
   "source": []
  }
 ],
 "metadata": {
  "kernelspec": {
   "display_name": "venv",
   "language": "python",
   "name": "python3"
  },
  "language_info": {
   "codemirror_mode": {
    "name": "ipython",
    "version": 3
   },
   "file_extension": ".py",
   "mimetype": "text/x-python",
   "name": "python",
   "nbconvert_exporter": "python",
   "pygments_lexer": "ipython3",
   "version": "3.12.2"
  }
 },
 "nbformat": 4,
 "nbformat_minor": 2
}
