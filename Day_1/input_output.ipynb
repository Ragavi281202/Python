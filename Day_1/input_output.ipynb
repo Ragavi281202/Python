{
 "cells": [
  {
   "cell_type": "markdown",
   "metadata": {},
   "source": [
    "output formatting using +"
   ]
  },
  {
   "cell_type": "code",
   "execution_count": 4,
   "metadata": {},
   "outputs": [
    {
     "name": "stdout",
     "output_type": "stream",
     "text": [
      "Your name is ragavi\n"
     ]
    }
   ],
   "source": [
    "name=input(\"Enter name : \")\n",
    "print(\"Your name is \"+name)"
   ]
  },
  {
   "cell_type": "markdown",
   "metadata": {},
   "source": [
    "output formatting using ,"
   ]
  },
  {
   "cell_type": "code",
   "execution_count": 3,
   "metadata": {},
   "outputs": [
    {
     "name": "stdout",
     "output_type": "stream",
     "text": [
      "Your age is  21\n"
     ]
    }
   ],
   "source": [
    "age=int(input(\"Enter age : \"))\n",
    "print(\"Your age is \",age)"
   ]
  },
  {
   "cell_type": "markdown",
   "metadata": {},
   "source": [
    "Output Formatting using f-string or format()"
   ]
  },
  {
   "cell_type": "code",
   "execution_count": 6,
   "metadata": {},
   "outputs": [
    {
     "name": "stdout",
     "output_type": "stream",
     "text": [
      "Ragavi is 21 years old\n",
      "Ragavi is 21 years old\n"
     ]
    }
   ],
   "source": [
    "name=\"Ragavi\"\n",
    "age=21\n",
    "print(f\"{name} is {age} years old\")#f-string\n",
    "print(\"{} is {} years old\".format(name,age)) #format()"
   ]
  },
  {
   "cell_type": "markdown",
   "metadata": {},
   "source": [
    "multiple variable usage seperated by ,"
   ]
  },
  {
   "cell_type": "code",
   "execution_count": 8,
   "metadata": {},
   "outputs": [
    {
     "name": "stdout",
     "output_type": "stream",
     "text": [
      "I am Ragavi from Tvl\n"
     ]
    }
   ],
   "source": [
    "name=\"Ragavi\"\n",
    "city=\"Tvl\"\n",
    "print(\"I am\",name,\"from\",city)"
   ]
  },
  {
   "cell_type": "markdown",
   "metadata": {},
   "source": [
    "output formatting \\t and \\n"
   ]
  },
  {
   "cell_type": "code",
   "execution_count": 19,
   "metadata": {},
   "outputs": [
    {
     "name": "stdout",
     "output_type": "stream",
     "text": [
      "I am Ragavi from tvl\n",
      "I am 21\n"
     ]
    }
   ],
   "source": [
    "name=\"Ragavi\"\n",
    "city=\"tvl\"\n",
    "age=21\n",
    "print(\"I am {} from {}\\nI am {}\".format(name,city,age))"
   ]
  },
  {
   "cell_type": "markdown",
   "metadata": {},
   "source": [
    "python verion using sys.version"
   ]
  },
  {
   "cell_type": "code",
   "execution_count": 22,
   "metadata": {},
   "outputs": [
    {
     "name": "stdout",
     "output_type": "stream",
     "text": [
      "3.12.0 (tags/v3.12.0:0fb18b0, Oct  2 2023, 13:03:39) [MSC v.1935 64 bit (AMD64)]\n"
     ]
    }
   ],
   "source": [
    "import sys\n",
    "print(sys.version)"
   ]
  },
  {
   "cell_type": "markdown",
   "metadata": {},
   "source": [
    "variable should not starts with the special characters,numbers.\n",
    "\n",
    "\n",
    "variables can start with the _,[A-Z],[a-z]\n",
    "\n",
    "\n",
    "variables are case sensitive(eg: AGE,age,_age are different)\n",
    "\n",
    "\n",
    "variables cannot be python keywords\n",
    "\n",
    "Case types: \n",
    "\n",
    "    ->Camal Case\n",
    "    ->Pascal Case\n",
    "    ->Snake Case"
   ]
  },
  {
   "cell_type": "code",
   "execution_count": 24,
   "metadata": {},
   "outputs": [
    {
     "name": "stdout",
     "output_type": "stream",
     "text": [
      "Rags\n",
      "Saro\n",
      "Shakthi\n",
      "Navi\n",
      "Raji\n",
      "Bhuva\n"
     ]
    }
   ],
   "source": [
    "myname=\"Rags\"\n",
    "myname1=\"Saro\"\n",
    "_myname=\"Shakthi\"\n",
    "myName=\"Navi\"\n",
    "MyName=\"Raji\"\n",
    "my_name=\"Bhuva\"\n",
    "print(myname)\n",
    "print(myname1)\n",
    "print(_myname)\n",
    "print(myName)\n",
    "print(MyName)\n",
    "print(my_name)"
   ]
  }
 ],
 "metadata": {
  "kernelspec": {
   "display_name": "venv",
   "language": "python",
   "name": "python3"
  },
  "language_info": {
   "codemirror_mode": {
    "name": "ipython",
    "version": 3
   },
   "file_extension": ".py",
   "mimetype": "text/x-python",
   "name": "python",
   "nbconvert_exporter": "python",
   "pygments_lexer": "ipython3",
   "version": "3.12.0"
  }
 },
 "nbformat": 4,
 "nbformat_minor": 2
}
