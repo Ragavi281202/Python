{
 "cells": [
  {
   "cell_type": "code",
   "execution_count": 1,
   "metadata": {},
   "outputs": [
    {
     "name": "stdout",
     "output_type": "stream",
     "text": [
      "Ragavi <class 'str'>\n",
      "21 <class 'int'>\n",
      "Tirunelveli <class 'str'>\n",
      "True <class 'bool'>\n",
      "28.12.2002 <class 'str'>\n",
      "Chappathi <class 'str'>\n",
      "pink <class 'str'>\n",
      "5.4 <class 'float'>\n",
      "55.5 <class 'float'>\n",
      "listening music <class 'str'>\n"
     ]
    }
   ],
   "source": [
    "name=\"Ragavi\"\n",
    "age=21\n",
    "place=\"Tirunelveli\"\n",
    "female=True\n",
    "dob=\"28.12.2002\"\n",
    "food=\"Chappathi\"\n",
    "color=\"pink\"\n",
    "height=5.4\n",
    "weight=55.5\n",
    "hobby=\"listening music\"\n",
    "\n",
    "print(name,type(name))\n",
    "print(age,type(age))\n",
    "print(place,type(place))\n",
    "print(female,type(female))\n",
    "print(dob,type(dob))\n",
    "print(food,type(food))\n",
    "print(color,type(color))\n",
    "print(height,type(height))\n",
    "print(weight,type(weight))\n",
    "print(hobby,type(hobby))"
   ]
  }
 ],
 "metadata": {
  "kernelspec": {
   "display_name": "venv",
   "language": "python",
   "name": "python3"
  },
  "language_info": {
   "codemirror_mode": {
    "name": "ipython",
    "version": 3
   },
   "file_extension": ".py",
   "mimetype": "text/x-python",
   "name": "python",
   "nbconvert_exporter": "python",
   "pygments_lexer": "ipython3",
   "version": "3.12.0"
  }
 },
 "nbformat": 4,
 "nbformat_minor": 2
}
