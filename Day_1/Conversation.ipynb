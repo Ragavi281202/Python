{
 "cells": [
  {
   "cell_type": "code",
   "execution_count": 3,
   "metadata": {},
   "outputs": [
    {
     "name": "stdout",
     "output_type": "stream",
     "text": [
      "My name is ragavi\n",
      "My age is 21\n",
      "I am in tvl\n",
      "I am female\n",
      "I was born in 28.12.2002\n",
      "My favourite food is chappathi\n"
     ]
    }
   ],
   "source": [
    "name=input(\"What is your name?\")\n",
    "print(\"My name is \"+name)\n",
    "age=int(input(\"What is your age?\"))\n",
    "print(\"My age is \"+str(age))\n",
    "place=input(\"Where you living?\")\n",
    "print(\"I am in \"+place);\n",
    "gender=input(\"What is your gender?\")\n",
    "print(\"I am \"+gender)\n",
    "dob=input(\"What is your DOB?\")\n",
    "print(\"I was born in \"+dob)\n",
    "food=input(\"What is your favourite food?\")\n",
    "print(\"My favourite food is \"+food)\n"
   ]
  }
 ],
 "metadata": {
  "kernelspec": {
   "display_name": "venv",
   "language": "python",
   "name": "python3"
  },
  "language_info": {
   "codemirror_mode": {
    "name": "ipython",
    "version": 3
   },
   "file_extension": ".py",
   "mimetype": "text/x-python",
   "name": "python",
   "nbconvert_exporter": "python",
   "pygments_lexer": "ipython3",
   "version": "3.12.0"
  }
 },
 "nbformat": 4,
 "nbformat_minor": 2
}
